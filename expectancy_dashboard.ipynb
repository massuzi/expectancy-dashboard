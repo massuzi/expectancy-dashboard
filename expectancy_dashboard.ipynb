{
 "cells": [
  {
   "cell_type": "markdown",
   "id": "d840ec22",
   "metadata": {},
   "source": [
    "# 📊 Expectancy Dashboard – Python Analysis"
   ]
  },
  {
   "cell_type": "code",
   "execution_count": null,
   "id": "8cea36d7",
   "metadata": {},
   "outputs": [],
   "source": [
    "import pandas as pd\n",
    "import numpy as np\n",
    "\n",
    "# Load Excel\n",
    "xls = pd.ExcelFile(\"extract discord.xlsx\")\n",
    "sheet1 = xls.parse('Sheet1')\n",
    "sheet2 = xls.parse('Sheet2')"
   ]
  },
  {
   "cell_type": "code",
   "execution_count": null,
   "id": "1bcbe02c",
   "metadata": {},
   "outputs": [],
   "source": [
    "# Combine & clean data\n",
    "combined = pd.concat([sheet1, sheet2], ignore_index=True)\n",
    "combined = combined[(combined['risk'] > 0) & combined['profit'].notna() & combined['risk'].notna()]\n",
    "combined['R_multiple'] = combined['profit'] / combined['risk']"
   ]
  },
  {
   "cell_type": "code",
   "execution_count": null,
   "id": "476c20f9",
   "metadata": {},
   "outputs": [],
   "source": [
    "# Categorize and calculate expectancy\n",
    "combined['is_win'] = combined['R_multiple'] > 0\n",
    "combined['is_loss'] = combined['R_multiple'] < 0\n",
    "win_rate = combined['is_win'].mean()\n",
    "avg_win_r = combined.loc[combined['is_win'], 'R_multiple'].mean()\n",
    "avg_loss_r = combined.loc[combined['is_loss'], 'R_multiple'].mean()\n",
    "expectancy = (win_rate * avg_win_r) + ((1 - win_rate) * avg_loss_r)"
   ]
  },
  {
   "cell_type": "code",
   "execution_count": null,
   "id": "97020489",
   "metadata": {},
   "outputs": [],
   "source": [
    "# Add datetime and cumulative R\n",
    "combined['datetime'] = pd.to_datetime(combined['date'] + ' ' + combined['time'])\n",
    "combined = combined.sort_values('datetime')\n",
    "combined['cumulative_R'] = combined['R_multiple'].cumsum()"
   ]
  },
  {
   "cell_type": "code",
   "execution_count": null,
   "id": "55773db7",
   "metadata": {},
   "outputs": [],
   "source": [
    "# Show summary\n",
    "print(\"Total Trades:\", len(combined))\n",
    "print(\"Win Rate (%):\", round(win_rate * 100, 2))\n",
    "print(\"Avg Win R:\", round(avg_win_r, 2))\n",
    "print(\"Avg Loss R:\", round(avg_loss_r, 2))\n",
    "print(\"Expectancy (R):\", round(expectancy, 2))\n",
    "print(\"Cumulative R (last):\", round(combined['cumulative_R'].iloc[-1], 2))"
   ]
  },
  {
   "cell_type": "code",
   "execution_count": null,
   "id": "c81d15c4",
   "metadata": {},
   "outputs": [],
   "source": [
    "# Preview table\n",
    "combined[['datetime', 'session', 'direction', 'outcome', 'profit', 'risk', 'R_multiple', 'cumulative_R']].head()"
   ]
  }
 ],
 "metadata": {
  "kernelspec": {
   "display_name": "Python 3",
   "name": "python3"
  }
 },
 "nbformat": 4,
 "nbformat_minor": 5
}